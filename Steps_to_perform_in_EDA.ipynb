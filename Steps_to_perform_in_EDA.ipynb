{
 "cells": [
  {
   "cell_type": "markdown",
   "id": "4d57aa84-7b0e-4fc5-8bb1-03bccfe63222",
   "metadata": {},
   "source": [
    "# Different steps we would perform in exploratory data analysis.- Actual example you can refer of house price prediction you did on kaggle.\n",
    "\n",
    "Remember that in exploratory data analysis, whenever we split features, or find features we always have to compare them with dependent feature as depdendent feature is our main goal"
   ]
  },
  {
   "cell_type": "markdown",
   "id": "9330d740-f697-426f-911b-9056763a1225",
   "metadata": {},
   "source": [
    "### Display all columns of a dataframe - It would show you all the columns, even if it has millions of records. similarly you can do for rows as well by using max_rows option\n",
    "\n",
    "pd.pandas.set_option(\"display.max_columns\", None)"
   ]
  },
  {
   "cell_type": "markdown",
   "id": "c0c683a9-6bb8-4960-8818-98d4a0d7fbf7",
   "metadata": {},
   "source": [
    "### check size of dataset"
   ]
  },
  {
   "cell_type": "markdown",
   "id": "ffab6173-9ecb-4c7f-96fd-e5ebd03c4196",
   "metadata": {},
   "source": [
    "# Find missing data\n",
    "### we will check the percentage of null values present in every feature.\n",
    "\n",
    "### If there are any missing values, we cannot just drop them directly. We need to check if there is any relation between this missing values and dependent feature.\n",
    "\n",
    "### If the meaningful relation is present, we cannot drop null values, we have to drop them with some meaningful values which we would do in feature engineering.\n",
    "\n",
    "### Now, check if any column where all  values are unique is present (like ID), drop that column"
   ]
  },
  {
   "cell_type": "markdown",
   "id": "9d3044bd-40dc-4a3e-8614-942616eba365",
   "metadata": {},
   "source": [
    "# Numerical features\n",
    "### Check how many numerical features/ columns are present in data\n",
    "### Temporal variables : IN numerical features, sometimes dates columns are also present which are in numerical format. We need to find them.\n",
    "### Now before converting them into datetime format, check if there is any relation between this datetime features and dependent variable.\n",
    "\n",
    "## Numerical features have 2 types of data\n",
    "1. Discrete numerical data\n",
    "2. continuous numerical data\n",
    "\n",
    "## Discrete numerical data :\n",
    "\n",
    "### In numerical features, lets try to find discrete features and continuous features. - It depends on your data, take a proper look at the data, and use some logic to divide them into discrete and continuous\n",
    "\n",
    "### Once we get the discrete data, try to find relation between them and dependent variable by plotting differrent graphs. \n",
    "\n",
    "## Continuous numerical data :\n",
    "\n",
    "### Now find the continuous numerical features from numerical features (use logic- it can be different for diofferent data). \n",
    "### Once you find the continuous data, find the distribution of every continuous feature, and if any feature is not following gaussian distribution or more skewed, then convert that into gaussian distribution.\n",
    "\n",
    "### We can do this by applying log transformation on the continuous data. -lets not be fixated on this step, as we technically should be taking care of this in feature engineering during outlier detection, outliers handling etc.. Just taking notes for now.\n",
    "\n",
    "## Outliers detection (continuous variables) : Detect the outliers in continuous data by taking log transformation of feature and then plotting the box plot as boxplot generally is used to detect outliers in features. Now different methods are available to detact outliers and to  take care of them. We will see them all in feature engineering. Now , we can detect outliers in discrete numerical features too, but discrete variable rarely has outliers. It again depends on data, take a look at the numerical data properly to understand in discrete features, where outliers can be present.\n"
   ]
  },
  {
   "cell_type": "markdown",
   "id": "c893dd48-c9dc-4e5e-a24f-3d535c6074e9",
   "metadata": {},
   "source": [
    "# Categorical variables"
   ]
  },
  {
   "cell_type": "markdown",
   "id": "f387a78d-4b65-4a99-af57-09bced1b07d2",
   "metadata": {},
   "source": [
    "### First find all the column which are categorical columns. After that, check how many categories are present in each categorical column/feature.\n",
    "### Once you found how many categories are oresent, try to find if there is any relation between categorical features and dependent feature."
   ]
  },
  {
   "cell_type": "markdown",
   "id": "da5da4bb-b9bf-4dde-9fcd-c095d4ad30d5",
   "metadata": {},
   "source": [
    "# vvimp\n",
    "\n",
    "### There is one library available \"from pandas_profiling import ProfileReport\" which would create the entire report of EXPLORATORY DATA ANALYSIS for us.\n",
    "\n",
    "### I have created one small file for that -  check it\n",
    "\n",
    "### But, Pandas profiling will not work properly when u have many features in ur dataset.\n",
    "\n",
    "### I have used it on titanic dataset as well. check it out."
   ]
  },
  {
   "cell_type": "code",
   "execution_count": null,
   "id": "45091d69-d3a6-4ed4-8099-7cf13511128c",
   "metadata": {},
   "outputs": [],
   "source": []
  },
  {
   "cell_type": "code",
   "execution_count": null,
   "id": "3d0887b9-d309-438f-a02e-d71a08d9894f",
   "metadata": {},
   "outputs": [],
   "source": []
  },
  {
   "cell_type": "code",
   "execution_count": null,
   "id": "d26cf644-0713-4353-9726-993dfd77f6bf",
   "metadata": {},
   "outputs": [],
   "source": []
  },
  {
   "cell_type": "code",
   "execution_count": null,
   "id": "7919d9be-94dc-4b15-9dd1-8411d7240671",
   "metadata": {},
   "outputs": [],
   "source": []
  }
 ],
 "metadata": {
  "kernelspec": {
   "display_name": "Python 3 (ipykernel)",
   "language": "python",
   "name": "python3"
  },
  "language_info": {
   "codemirror_mode": {
    "name": "ipython",
    "version": 3
   },
   "file_extension": ".py",
   "mimetype": "text/x-python",
   "name": "python",
   "nbconvert_exporter": "python",
   "pygments_lexer": "ipython3",
   "version": "3.11.5"
  }
 },
 "nbformat": 4,
 "nbformat_minor": 5
}
