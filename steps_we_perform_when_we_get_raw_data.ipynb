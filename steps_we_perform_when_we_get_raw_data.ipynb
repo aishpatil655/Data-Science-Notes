{
 "cells": [
  {
   "cell_type": "markdown",
   "id": "dbe78992-07d8-4ad2-98da-f8f22453c0dd",
   "metadata": {},
   "source": [
    " As soon as we get the raw data, what steps we perform??\n",
    "\n",
    " 1st module is feature engineering- This is a backbone of your entire process.\n",
    "\n",
    " Following section would show all steps we would perform in feature engineering.\n",
    "\n",
    " "
   ]
  },
  {
   "cell_type": "markdown",
   "id": "4cbd6850-6d02-437a-a89e-258d69f0a30b",
   "metadata": {},
   "source": [
    "## Step 1. Exploratory data analysis (EDA) :\n",
    "\n",
    "As soon as we get the raw data, we start seeing how many numerical features are there? - Draw different diagrams for them\n",
    "\n",
    "1. How many categorical features are there - Then in all categorical features, how many categories are there, try plotting them with different plots available in seaborn (we have seen this in seaborn lecture).\n",
    "\n",
    "2. Are there any missing values (visualise all graphs)\n",
    "\n",
    "3. Are there any outliers (Again plot diagrams- maybe boxplot as it shows outliers)\n",
    "\n",
    "4. These are initial steps we perform in feature engineering.\n",
    "\n",
    "5. Based on all this above info, we would decide if data needs cleaning or not\n",
    "\n",
    "Here , basically we are trying to convert raw data into useful data, so that ML algorithms would be able to ingest them properly for good predictions.\n",
    "   "
   ]
  },
  {
   "cell_type": "markdown",
   "id": "708763e6-0af6-4020-a385-40fdd45a2c00",
   "metadata": {},
   "source": [
    "## Step 2. Start handling the missing values\n",
    "\n",
    "Alot of various ways are available for that.\n",
    "\n",
    "example- mean, meadian, mode"
   ]
  },
  {
   "cell_type": "markdown",
   "id": "fe7bee62-901b-42e0-b7a6-a50431599884",
   "metadata": {},
   "source": [
    "## Step 3 : Handling imbalanced dataset\n",
    "\n",
    "Not all ML algos work better with imbalanced datasets, we need to handle this"
   ]
  },
  {
   "cell_type": "markdown",
   "id": "653037cc-c999-4f98-97bc-3743b53b714f",
   "metadata": {},
   "source": [
    "## Step 4 : Treating the outliers\n",
    "\n",
    "There are 2/3 ways available to handle this"
   ]
  },
  {
   "cell_type": "markdown",
   "id": "9929b0cf-2e64-40db-b950-cfb3826ca5ed",
   "metadata": {},
   "source": [
    "## Step 5 : Scaling down the data \n",
    "\n",
    "Standardisation , normalisation"
   ]
  },
  {
   "cell_type": "markdown",
   "id": "1c97538e-d8b6-46e7-b47c-67fb95113c10",
   "metadata": {},
   "source": [
    "## Step 6 : Converting categorical features into numerical features\n",
    "\n",
    "example: pincodes- it has alot of categories. There are different ways available to convert categorical data to numerical data."
   ]
  },
  {
   "cell_type": "markdown",
   "id": "4d0b2127-d6b5-4655-a661-88d2966e489d",
   "metadata": {},
   "source": [
    "## If all this steps are done, 90% of feature engineering would be done"
   ]
  },
  {
   "cell_type": "markdown",
   "id": "38f9ea54-47d4-48fe-97c6-2ed3cbc83383",
   "metadata": {},
   "source": [
    "# Once feature engineering is done, we go to feature selection step. The below methods we use in feature selection step:\n"
   ]
  },
  {
   "cell_type": "markdown",
   "id": "88994eba-2c93-4914-821e-94c0d99b9c9f",
   "metadata": {},
   "source": [
    "### Correlation\n",
    "### k-neighbours\n",
    "### chi squares\n",
    "### Genetic algorithms\n",
    "### Feature importance - Extra tree classifier\n",
    "\n",
    "This all methods are used to select the best features.\n"
   ]
  },
  {
   "cell_type": "code",
   "execution_count": null,
   "id": "7658a78c-030a-4030-92e3-4ad9f961864f",
   "metadata": {},
   "outputs": [],
   "source": []
  },
  {
   "cell_type": "code",
   "execution_count": null,
   "id": "1de2e0bf-e469-4071-a8b3-b0322f76076e",
   "metadata": {},
   "outputs": [],
   "source": []
  }
 ],
 "metadata": {
  "kernelspec": {
   "display_name": "Python 3 (ipykernel)",
   "language": "python",
   "name": "python3"
  },
  "language_info": {
   "codemirror_mode": {
    "name": "ipython",
    "version": 3
   },
   "file_extension": ".py",
   "mimetype": "text/x-python",
   "name": "python",
   "nbconvert_exporter": "python",
   "pygments_lexer": "ipython3",
   "version": "3.11.5"
  }
 },
 "nbformat": 4,
 "nbformat_minor": 5
}
