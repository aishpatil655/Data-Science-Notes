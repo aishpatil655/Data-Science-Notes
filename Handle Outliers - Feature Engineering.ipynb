{
 "cells": [
  {
   "cell_type": "markdown",
   "id": "c13a8a2f-2fde-47b7-92e9-cc228bf6b07c",
   "metadata": {},
   "source": [
    "# What are outliers\n",
    "\n",
    "It's a completely different data point or a record from other records. Observation which deviate from other observation.\n",
    "Outliers are important in some datasets and harmful in some datasets. For example, in cancer detection case - only few people might have cancer, so this points can get considered as outliers.\n",
    "\n",
    "Should Outliers be Removed??\n",
    "\n",
    "It dependes on the context, domain. In some cases we should remove, in some cases we should not.\n",
    "\n",
    "For example - Sales forecast - There might be some sudden spikes. Those spikes are outliers, But we should not remove them as they are important while doing the forecast or credit crad fraud detection, in this cases we should not remove the outliers.\n",
    "In titanic dataset, the Age column has outliers, but we can remove them as survived column is not dependent on those otliers.\n",
    "\n",
    "So,based on domain knowledge, we should be taking this decision.\n"
   ]
  },
  {
   "cell_type": "markdown",
   "id": "43c681fd-b8ce-42c0-a4b9-516cd7e7416c",
   "metadata": {},
   "source": [
    "When you are not sure if you should remove the outliers or not, at that time, there are some machine learning algorithms which are not sensitive to outliers.\n",
    "\n",
    "which machine learning models are very sensitive to outliers??\n",
    "\n",
    "1. Naive bayes classifier - Not sensitive\n",
    "2. SVM - Not sensitive\n",
    "3. Linear Regression - Sensitive \n",
    "4. Logistic Regression - Sensitive\n",
    "5. Decision tree regressor or classifier - Not Sensitive\n",
    "6. Ensemble (Random forest, XGboost, AdaBoost) - Not Sensitive\n",
    "7. KNN - Not Sensitive\n",
    "8. KMeans - Sensitive\n",
    "9. Hierarichal - Sensitive\n",
    "10. PCA - Sensitive\n",
    "11. Neural Networks - Sensitive\n",
    "12. DBSCAN - Sensitive\n",
    "\n",
    "All unsupervised algorithms are sensitive to outliers.\n",
    "\n",
    "\n",
    "Hence, when your data has outliers or if you have imbalanced dataset, select models which are not sensitive to outliers. And,  If you need to select the machine learning algos, which are sensitive to outliers, then create a good dataset and then use them.\n"
   ]
  },
  {
   "cell_type": "code",
   "execution_count": 18,
   "id": "915147ad-1e77-43b6-b7ef-dd658a8d9466",
   "metadata": {},
   "outputs": [],
   "source": [
    "# To understand techniques for handling outliers, we would use titanic dataset.\n",
    "\n",
    "import pandas as pd\n",
    "import seaborn as sns"
   ]
  },
  {
   "cell_type": "code",
   "execution_count": 19,
   "id": "7ce6a61f-a881-43ee-9b33-bfdc14fa565e",
   "metadata": {},
   "outputs": [
    {
     "data": {
      "text/html": [
       "<div>\n",
       "<style scoped>\n",
       "    .dataframe tbody tr th:only-of-type {\n",
       "        vertical-align: middle;\n",
       "    }\n",
       "\n",
       "    .dataframe tbody tr th {\n",
       "        vertical-align: top;\n",
       "    }\n",
       "\n",
       "    .dataframe thead th {\n",
       "        text-align: right;\n",
       "    }\n",
       "</style>\n",
       "<table border=\"1\" class=\"dataframe\">\n",
       "  <thead>\n",
       "    <tr style=\"text-align: right;\">\n",
       "      <th></th>\n",
       "      <th>PassengerId</th>\n",
       "      <th>Survived</th>\n",
       "      <th>Pclass</th>\n",
       "      <th>Name</th>\n",
       "      <th>Sex</th>\n",
       "      <th>Age</th>\n",
       "      <th>SibSp</th>\n",
       "      <th>Parch</th>\n",
       "      <th>Ticket</th>\n",
       "      <th>Fare</th>\n",
       "      <th>Cabin</th>\n",
       "      <th>Embarked</th>\n",
       "    </tr>\n",
       "  </thead>\n",
       "  <tbody>\n",
       "    <tr>\n",
       "      <th>0</th>\n",
       "      <td>1</td>\n",
       "      <td>0</td>\n",
       "      <td>3</td>\n",
       "      <td>Braund, Mr. Owen Harris</td>\n",
       "      <td>male</td>\n",
       "      <td>22.0</td>\n",
       "      <td>1</td>\n",
       "      <td>0</td>\n",
       "      <td>A/5 21171</td>\n",
       "      <td>7.2500</td>\n",
       "      <td>NaN</td>\n",
       "      <td>S</td>\n",
       "    </tr>\n",
       "    <tr>\n",
       "      <th>1</th>\n",
       "      <td>2</td>\n",
       "      <td>1</td>\n",
       "      <td>1</td>\n",
       "      <td>Cumings, Mrs. John Bradley (Florence Briggs Th...</td>\n",
       "      <td>female</td>\n",
       "      <td>38.0</td>\n",
       "      <td>1</td>\n",
       "      <td>0</td>\n",
       "      <td>PC 17599</td>\n",
       "      <td>71.2833</td>\n",
       "      <td>C85</td>\n",
       "      <td>C</td>\n",
       "    </tr>\n",
       "    <tr>\n",
       "      <th>2</th>\n",
       "      <td>3</td>\n",
       "      <td>1</td>\n",
       "      <td>3</td>\n",
       "      <td>Heikkinen, Miss. Laina</td>\n",
       "      <td>female</td>\n",
       "      <td>26.0</td>\n",
       "      <td>0</td>\n",
       "      <td>0</td>\n",
       "      <td>STON/O2. 3101282</td>\n",
       "      <td>7.9250</td>\n",
       "      <td>NaN</td>\n",
       "      <td>S</td>\n",
       "    </tr>\n",
       "    <tr>\n",
       "      <th>3</th>\n",
       "      <td>4</td>\n",
       "      <td>1</td>\n",
       "      <td>1</td>\n",
       "      <td>Futrelle, Mrs. Jacques Heath (Lily May Peel)</td>\n",
       "      <td>female</td>\n",
       "      <td>35.0</td>\n",
       "      <td>1</td>\n",
       "      <td>0</td>\n",
       "      <td>113803</td>\n",
       "      <td>53.1000</td>\n",
       "      <td>C123</td>\n",
       "      <td>S</td>\n",
       "    </tr>\n",
       "    <tr>\n",
       "      <th>4</th>\n",
       "      <td>5</td>\n",
       "      <td>0</td>\n",
       "      <td>3</td>\n",
       "      <td>Allen, Mr. William Henry</td>\n",
       "      <td>male</td>\n",
       "      <td>35.0</td>\n",
       "      <td>0</td>\n",
       "      <td>0</td>\n",
       "      <td>373450</td>\n",
       "      <td>8.0500</td>\n",
       "      <td>NaN</td>\n",
       "      <td>S</td>\n",
       "    </tr>\n",
       "    <tr>\n",
       "      <th>...</th>\n",
       "      <td>...</td>\n",
       "      <td>...</td>\n",
       "      <td>...</td>\n",
       "      <td>...</td>\n",
       "      <td>...</td>\n",
       "      <td>...</td>\n",
       "      <td>...</td>\n",
       "      <td>...</td>\n",
       "      <td>...</td>\n",
       "      <td>...</td>\n",
       "      <td>...</td>\n",
       "      <td>...</td>\n",
       "    </tr>\n",
       "    <tr>\n",
       "      <th>886</th>\n",
       "      <td>887</td>\n",
       "      <td>0</td>\n",
       "      <td>2</td>\n",
       "      <td>Montvila, Rev. Juozas</td>\n",
       "      <td>male</td>\n",
       "      <td>27.0</td>\n",
       "      <td>0</td>\n",
       "      <td>0</td>\n",
       "      <td>211536</td>\n",
       "      <td>13.0000</td>\n",
       "      <td>NaN</td>\n",
       "      <td>S</td>\n",
       "    </tr>\n",
       "    <tr>\n",
       "      <th>887</th>\n",
       "      <td>888</td>\n",
       "      <td>1</td>\n",
       "      <td>1</td>\n",
       "      <td>Graham, Miss. Margaret Edith</td>\n",
       "      <td>female</td>\n",
       "      <td>19.0</td>\n",
       "      <td>0</td>\n",
       "      <td>0</td>\n",
       "      <td>112053</td>\n",
       "      <td>30.0000</td>\n",
       "      <td>B42</td>\n",
       "      <td>S</td>\n",
       "    </tr>\n",
       "    <tr>\n",
       "      <th>888</th>\n",
       "      <td>889</td>\n",
       "      <td>0</td>\n",
       "      <td>3</td>\n",
       "      <td>Johnston, Miss. Catherine Helen \"Carrie\"</td>\n",
       "      <td>female</td>\n",
       "      <td>NaN</td>\n",
       "      <td>1</td>\n",
       "      <td>2</td>\n",
       "      <td>W./C. 6607</td>\n",
       "      <td>23.4500</td>\n",
       "      <td>NaN</td>\n",
       "      <td>S</td>\n",
       "    </tr>\n",
       "    <tr>\n",
       "      <th>889</th>\n",
       "      <td>890</td>\n",
       "      <td>1</td>\n",
       "      <td>1</td>\n",
       "      <td>Behr, Mr. Karl Howell</td>\n",
       "      <td>male</td>\n",
       "      <td>26.0</td>\n",
       "      <td>0</td>\n",
       "      <td>0</td>\n",
       "      <td>111369</td>\n",
       "      <td>30.0000</td>\n",
       "      <td>C148</td>\n",
       "      <td>C</td>\n",
       "    </tr>\n",
       "    <tr>\n",
       "      <th>890</th>\n",
       "      <td>891</td>\n",
       "      <td>0</td>\n",
       "      <td>3</td>\n",
       "      <td>Dooley, Mr. Patrick</td>\n",
       "      <td>male</td>\n",
       "      <td>32.0</td>\n",
       "      <td>0</td>\n",
       "      <td>0</td>\n",
       "      <td>370376</td>\n",
       "      <td>7.7500</td>\n",
       "      <td>NaN</td>\n",
       "      <td>Q</td>\n",
       "    </tr>\n",
       "  </tbody>\n",
       "</table>\n",
       "<p>891 rows × 12 columns</p>\n",
       "</div>"
      ],
      "text/plain": [
       "     PassengerId  Survived  Pclass  \\\n",
       "0              1         0       3   \n",
       "1              2         1       1   \n",
       "2              3         1       3   \n",
       "3              4         1       1   \n",
       "4              5         0       3   \n",
       "..           ...       ...     ...   \n",
       "886          887         0       2   \n",
       "887          888         1       1   \n",
       "888          889         0       3   \n",
       "889          890         1       1   \n",
       "890          891         0       3   \n",
       "\n",
       "                                                  Name     Sex   Age  SibSp  \\\n",
       "0                              Braund, Mr. Owen Harris    male  22.0      1   \n",
       "1    Cumings, Mrs. John Bradley (Florence Briggs Th...  female  38.0      1   \n",
       "2                               Heikkinen, Miss. Laina  female  26.0      0   \n",
       "3         Futrelle, Mrs. Jacques Heath (Lily May Peel)  female  35.0      1   \n",
       "4                             Allen, Mr. William Henry    male  35.0      0   \n",
       "..                                                 ...     ...   ...    ...   \n",
       "886                              Montvila, Rev. Juozas    male  27.0      0   \n",
       "887                       Graham, Miss. Margaret Edith  female  19.0      0   \n",
       "888           Johnston, Miss. Catherine Helen \"Carrie\"  female   NaN      1   \n",
       "889                              Behr, Mr. Karl Howell    male  26.0      0   \n",
       "890                                Dooley, Mr. Patrick    male  32.0      0   \n",
       "\n",
       "     Parch            Ticket     Fare Cabin Embarked  \n",
       "0        0         A/5 21171   7.2500   NaN        S  \n",
       "1        0          PC 17599  71.2833   C85        C  \n",
       "2        0  STON/O2. 3101282   7.9250   NaN        S  \n",
       "3        0            113803  53.1000  C123        S  \n",
       "4        0            373450   8.0500   NaN        S  \n",
       "..     ...               ...      ...   ...      ...  \n",
       "886      0            211536  13.0000   NaN        S  \n",
       "887      0            112053  30.0000   B42        S  \n",
       "888      2        W./C. 6607  23.4500   NaN        S  \n",
       "889      0            111369  30.0000  C148        C  \n",
       "890      0            370376   7.7500   NaN        Q  \n",
       "\n",
       "[891 rows x 12 columns]"
      ]
     },
     "execution_count": 19,
     "metadata": {},
     "output_type": "execute_result"
    }
   ],
   "source": [
    "data = pd.read_csv(\"Titanic.csv\")\n",
    "data\n"
   ]
  },
  {
   "cell_type": "code",
   "execution_count": 20,
   "id": "0f8d8402-1ffe-4a71-9a37-3cbe97d3da76",
   "metadata": {},
   "outputs": [
    {
     "data": {
      "text/plain": [
       "PassengerId      0\n",
       "Survived         0\n",
       "Pclass           0\n",
       "Name             0\n",
       "Sex              0\n",
       "Age            177\n",
       "SibSp            0\n",
       "Parch            0\n",
       "Ticket           0\n",
       "Fare             0\n",
       "Cabin          687\n",
       "Embarked         2\n",
       "dtype: int64"
      ]
     },
     "execution_count": 20,
     "metadata": {},
     "output_type": "execute_result"
    }
   ],
   "source": [
    "data.isnull().sum()"
   ]
  },
  {
   "cell_type": "code",
   "execution_count": 21,
   "id": "d8104371-fcef-4060-a2dd-4dea03527bf6",
   "metadata": {},
   "outputs": [
    {
     "name": "stderr",
     "output_type": "stream",
     "text": [
      "C:\\Users\\aishp\\anaconda3\\Lib\\site-packages\\seaborn\\_oldcore.py:1119: FutureWarning: use_inf_as_na option is deprecated and will be removed in a future version. Convert inf values to NaN before operating instead.\n",
      "  with pd.option_context('mode.use_inf_as_na', True):\n"
     ]
    },
    {
     "data": {
      "text/plain": [
       "<Axes: xlabel='Age', ylabel='Count'>"
      ]
     },
     "execution_count": 21,
     "metadata": {},
     "output_type": "execute_result"
    },
    {
     "data": {
      "image/png": "[encoded data removed]",
      "text/plain": [
       "<Figure size 640x480 with 1 Axes>"
      ]
     },
     "metadata": {},
     "output_type": "display_data"
    }
   ],
   "source": [
    "sns.histplot(data[\"Age\"].dropna(), kde=True)"
   ]
  },
  {
   "cell_type": "code",
   "execution_count": 22,
   "id": "c925b49a-efe1-4444-9287-1fa661181ad4",
   "metadata": {},
   "outputs": [
    {
     "name": "stderr",
     "output_type": "stream",
     "text": [
      "C:\\Users\\aishp\\anaconda3\\Lib\\site-packages\\seaborn\\_oldcore.py:1119: FutureWarning: use_inf_as_na option is deprecated and will be removed in a future version. Convert inf values to NaN before operating instead.\n",
      "  with pd.option_context('mode.use_inf_as_na', True):\n"
     ]
    },
    {
     "data": {
      "text/plain": [
       "<Axes: xlabel='Age', ylabel='Count'>"
      ]
     },
     "execution_count": 22,
     "metadata": {},
     "output_type": "execute_result"
    },
    {
     "data": {
      "image/png": "[encoded data removed]",
      "text/plain": [
       "<Figure size 640x480 with 1 Axes>"
      ]
     },
     "metadata": {},
     "output_type": "display_data"
    }
   ],
   "source": [
    "# Lets create outliers in Age column just to understand how to handle outliers.\n",
    "\n",
    "sns.histplot(data[\"Age\"].fillna(100), kde=True)"
   ]
  },
  {
   "cell_type": "markdown",
   "id": "3ae4c08c-bceb-4566-bd12-018c803f1d97",
   "metadata": {},
   "source": [
    "### If your data is following the normal distribution, we use following method to handle outliers. Above, before filling null values with 100, we could see that Age column was following the normal distribution. "
   ]
  },
  {
   "cell_type": "code",
   "execution_count": 23,
   "id": "30088e04-e954-4266-96a6-a5b2eb053a80",
   "metadata": {},
   "outputs": [
    {
     "name": "stderr",
     "output_type": "stream",
     "text": [
      "C:\\Users\\aishp\\anaconda3\\Lib\\site-packages\\seaborn\\_oldcore.py:1119: FutureWarning: use_inf_as_na option is deprecated and will be removed in a future version. Convert inf values to NaN before operating instead.\n",
      "  with pd.option_context('mode.use_inf_as_na', True):\n"
     ]
    },
    {
     "data": {
      "text/plain": [
       "<Axes: xlabel='Age', ylabel='Count'>"
      ]
     },
     "execution_count": 23,
     "metadata": {},
     "output_type": "execute_result"
    },
    {
     "data": {
      "image/png": "[encoded data removed]",
      "text/plain": [
       "<Figure size 640x480 with 1 Axes>"
      ]
     },
     "metadata": {},
     "output_type": "display_data"
    }
   ],
   "source": [
    "# Gaussian/ normal distributed data\n",
    "\n",
    "sns.histplot(data[\"Age\"], kde=True) # Here, Age is following the normal distribution."
   ]
  },
  {
   "cell_type": "code",
   "execution_count": 24,
   "id": "7f2e71ba-fae1-443d-93ae-e258accb1aab",
   "metadata": {},
   "outputs": [
    {
     "data": {
      "text/plain": [
       "<Axes: xlabel='Age'>"
      ]
     },
     "execution_count": 24,
     "metadata": {},
     "output_type": "execute_result"
    },
    {
     "data": {
      "image/png": "[encoded data removed]",
      "text/plain": [
       "<Figure size 640x480 with 1 Axes>"
      ]
     },
     "metadata": {},
     "output_type": "display_data"
    }
   ],
   "source": [
    "# Lets find outliers in your data\n",
    "\n",
    "sns.boxplot(data=data, x=data[\"Age\"])"
   ]
  },
  {
   "cell_type": "code",
   "execution_count": 25,
   "id": "c3a6e201-97f9-4161-b21b-f995a59515c8",
   "metadata": {},
   "outputs": [
    {
     "data": {
      "text/plain": [
       "count    714.000000\n",
       "mean      29.699118\n",
       "std       14.526497\n",
       "min        0.420000\n",
       "25%       20.125000\n",
       "50%       28.000000\n",
       "75%       38.000000\n",
       "max       80.000000\n",
       "Name: Age, dtype: float64"
      ]
     },
     "execution_count": 25,
     "metadata": {},
     "output_type": "execute_result"
    }
   ],
   "source": [
    "data[\"Age\"].describe()"
   ]
  },
  {
   "cell_type": "markdown",
   "id": "53151671-42e9-4f95-b4ad-18ca17cd1890",
   "metadata": {},
   "source": [
    "# Now, as we have assumed (can be seen from above diagram), that the Age is following normal distribution, we need to find the upper and lower boundry with the help of which we can find outliers.\n",
    "# Why to find upper and lower boundry:\n",
    "\n",
    "It is considered that the 99.75% if data is present in between the lower and upper boundry and data points outside of this boundry are considered as an outliers.\n",
    "\n",
    "How do we find upper and lower boundry??\n",
    "\n",
    "Upper boudry = mean + 3*standard deviation\n",
    "Lower boudry = mean - 3*standard deviation\n",
    "\n",
    "Once you get upper and lower boudry point, data points outside of this range would be considered as outliers.\n",
    "Lets calculate this boudry points for Age column\n"
   ]
  },
  {
   "cell_type": "code",
   "execution_count": 26,
   "id": "5d585578-7a5e-45cb-acd1-333f66685506",
   "metadata": {},
   "outputs": [],
   "source": [
    "Lower_boundry_age = data[\"Age\"].mean() - 3* data[\"Age\"].std()\n",
    "Upper_boundry_age = data[\"Age\"].mean() + 3* data[\"Age\"].std()\n"
   ]
  },
  {
   "cell_type": "code",
   "execution_count": 27,
   "id": "b5e06fec-b7a8-42e9-9dfe-8849d6abc59d",
   "metadata": {},
   "outputs": [
    {
     "name": "stdout",
     "output_type": "stream",
     "text": [
      "-13.880374349943303 73.27860964406094\n"
     ]
    }
   ],
   "source": [
    "print(Lower_boundry_age, Upper_boundry_age)"
   ]
  },
  {
   "cell_type": "markdown",
   "id": "d2f2ab62-2d75-46ef-9d3c-e9c36401df34",
   "metadata": {},
   "source": [
    "#### Above, points outside of 73.27 would be comsidered as outliers. Here, we would not consider lower boundry point -13.88 as Age cannot be negative."
   ]
  },
  {
   "cell_type": "markdown",
   "id": "3c96ebf5-c2ef-4872-b4e5-e69c731939f9",
   "metadata": {},
   "source": [
    "## So, this is how you are supposed to find outliers if your data is following the gaussian distribution.\n"
   ]
  },
  {
   "cell_type": "markdown",
   "id": "db44864a-8025-4b04-a9e0-a174e4c844fa",
   "metadata": {},
   "source": [
    "### How to find outliers if data is right/left skewed.\n",
    "\n",
    "#In this case, we should be finding upper_gate or lower_gate point. All the points outside of this range would be considered as outliers. To find this values,we need to calculate Inter Quantile Range.\n",
    "\n",
    "Inter Quantile Range (IQR) = 75th quantile value - 25th quantile value\n",
    "\n",
    "upper_gate = 75th quantile value + (IQR * 1.5 )\n",
    "lower_gate = 25th quantile value - (IQR * 1.5 )\n",
    "\n",
    "### Here, values outside of this range are considered as outliers \n",
    "\n",
    "### How to find extreme outliers\n",
    "upper_gate = 75th quantile value + (IQR * 3 )\n",
    "lower_gate = 25th quantile value - (IQR * 3 )\n",
    "\n",
    "### Here, values outside of this range would be considered as extreme outliers.\n",
    "\n",
    "### In skewed data we should always try to find extreme outliers and deal with them.\n",
    "\n"
   ]
  },
  {
   "cell_type": "code",
   "execution_count": 28,
   "id": "2155a472-bb48-4cfe-85b1-3f1fa2f91233",
   "metadata": {},
   "outputs": [
    {
     "data": {
      "text/plain": [
       "count    891.000000\n",
       "mean      32.204208\n",
       "std       49.693429\n",
       "min        0.000000\n",
       "25%        7.910400\n",
       "50%       14.454200\n",
       "75%       31.000000\n",
       "max      512.329200\n",
       "Name: Fare, dtype: float64"
      ]
     },
     "execution_count": 28,
     "metadata": {},
     "output_type": "execute_result"
    }
   ],
   "source": [
    "# In above dataset, \"Fare\" column is following skewed distribution. Lets find upper_gate and lower_gate value for this column\n",
    "\n",
    "data[\"Fare\"].describe()"
   ]
  },
  {
   "cell_type": "code",
   "execution_count": 29,
   "id": "aa42ecef-48db-4ef5-ba5d-7fffc0d18c5a",
   "metadata": {},
   "outputs": [
    {
     "name": "stderr",
     "output_type": "stream",
     "text": [
      "C:\\Users\\aishp\\anaconda3\\Lib\\site-packages\\seaborn\\_oldcore.py:1119: FutureWarning: use_inf_as_na option is deprecated and will be removed in a future version. Convert inf values to NaN before operating instead.\n",
      "  with pd.option_context('mode.use_inf_as_na', True):\n"
     ]
    },
    {
     "data": {
      "text/plain": [
       "<Axes: xlabel='Fare', ylabel='Count'>"
      ]
     },
     "execution_count": 29,
     "metadata": {},
     "output_type": "execute_result"
    },
    {
     "data": {
      "image/png": "[encoded data removed]",
      "text/plain": [
       "<Figure size 640x480 with 1 Axes>"
      ]
     },
     "metadata": {},
     "output_type": "display_data"
    }
   ],
   "source": [
    "sns.histplot(data[\"Fare\"], kde=True) # Here, we can see that data is right skewed."
   ]
  },
  {
   "cell_type": "code",
   "execution_count": 30,
   "id": "a5188c0b-d9b8-4ffe-9f8f-a56ed4a76797",
   "metadata": {},
   "outputs": [
    {
     "data": {
      "text/plain": [
       "<Axes: xlabel='Fare'>"
      ]
     },
     "execution_count": 30,
     "metadata": {},
     "output_type": "execute_result"
    },
    {
     "data": {
      "image/png": "[encoded data removed]",
      "text/plain": [
       "<Figure size 640x480 with 1 Axes>"
      ]
     },
     "metadata": {},
     "output_type": "display_data"
    }
   ],
   "source": [
    "sns.boxplot(data=data, x=\"Fare\")"
   ]
  },
  {
   "cell_type": "code",
   "execution_count": 31,
   "id": "c7f81653-5a50-43da-9e3e-e1ede258fc3c",
   "metadata": {},
   "outputs": [
    {
     "data": {
      "text/plain": [
       "23.0896"
      ]
     },
     "execution_count": 31,
     "metadata": {},
     "output_type": "execute_result"
    }
   ],
   "source": [
    "IQR = data[\"Fare\"].quantile(0.75) - data[\"Fare\"].quantile(0.25)\n",
    "IQR"
   ]
  },
  {
   "cell_type": "code",
   "execution_count": 32,
   "id": "da2c1e7e-fa50-42e3-aeb8-c28eabc48cfb",
   "metadata": {},
   "outputs": [
    {
     "name": "stdout",
     "output_type": "stream",
     "text": [
      "65.6344 -26.724\n"
     ]
    }
   ],
   "source": [
    "# Lets find upper gate and lower gate value.\n",
    "\n",
    "upper_gate = data[\"Fare\"].quantile(0.75) + (IQR * 1.5)\n",
    "lower_gate = data[\"Fare\"].quantile(0.25) - (IQR * 1.5)\n",
    "print(upper_gate,lower_gate ) # Here, we can find outliers"
   ]
  },
  {
   "cell_type": "code",
   "execution_count": 33,
   "id": "727e3d3b-199b-4c2b-b9b7-bba41029f48a",
   "metadata": {},
   "outputs": [
    {
     "name": "stdout",
     "output_type": "stream",
     "text": [
      "100.2688 -61.358399999999996\n"
     ]
    }
   ],
   "source": [
    "# Lets find upper gate and lower gate value.\n",
    "\n",
    "upper_gate = data[\"Fare\"].quantile(0.75) + (IQR * 3)\n",
    "lower_gate = data[\"Fare\"].quantile(0.25) - (IQR * 3)\n",
    "print(upper_gate,lower_gate ) # Here, we can find extreme outliers"
   ]
  },
  {
   "cell_type": "markdown",
   "id": "6a5e25b8-65ca-4acd-a1fe-8b3feeda7e04",
   "metadata": {},
   "source": [
    "#### Here, we can see that 100 is the upper boudry for FARE column, hence values above 100 would be considered as extreme outliers. We would not consider -61 (lower_gate) value as Fare cannot be negative.\n",
    "\n",
    "#### In right or left skewed data, you should always find extreme outliers by finding upper and lower gate and try to deal with those outliers."
   ]
  },
  {
   "cell_type": "markdown",
   "id": "09b7874c-7895-435c-8f3c-3737dddf690a",
   "metadata": {},
   "source": [
    "# Hence,\n",
    "### In gaussian distributed/ normal distributed data, we should find outliers by finding upper_boundry and lower_boundry and try to deal with those outliers.\n",
    "\n",
    "### In right or left skewed data, you should always find extreme outliers by finding upper and lower gate and try to deal with those outliers."
   ]
  },
  {
   "cell_type": "markdown",
   "id": "97f5dfa3-2d5c-4b8c-b609-412bd723b17a",
   "metadata": {},
   "source": [
    "### How to handle this outliers now??\n",
    "\n",
    "### Once you find the upper and lower gate/boundry, use those values to replace outliers. Lets see this in practical.\n",
    "\n",
    "df=data.copy()\n"
   ]
  },
  {
   "cell_type": "code",
   "execution_count": 42,
   "id": "fddedf5e-7e0f-4bb6-9481-854207bdb3d6",
   "metadata": {},
   "outputs": [],
   "source": [
    "df=data.copy()\n"
   ]
  },
  {
   "cell_type": "code",
   "execution_count": 43,
   "id": "77fab0aa-25e0-4581-9b38-ce5cbfee1883",
   "metadata": {},
   "outputs": [],
   "source": [
    "df.loc[data[\"Age\"]>73, \"Age\"] = 73 # 73 is the upper_boudry for Age column."
   ]
  },
  {
   "cell_type": "code",
   "execution_count": 44,
   "id": "d45fb7f2-5130-4c0f-bcdd-bf4052379dd3",
   "metadata": {},
   "outputs": [],
   "source": [
    "df.loc[data[\"Fare\"]>100, \"Fare\"] = 100 # 100 is the upper_gate for Fare column"
   ]
  },
  {
   "cell_type": "code",
   "execution_count": 45,
   "id": "23fd5cf6-ded4-473e-93d7-9460db5e9c1c",
   "metadata": {},
   "outputs": [
    {
     "data": {
      "text/plain": [
       "<Axes: xlabel='Age'>"
      ]
     },
     "execution_count": 45,
     "metadata": {},
     "output_type": "execute_result"
    },
    {
     "data": {
      "image/png": "[encoded data removed]",
      "text/plain": [
       "<Figure size 640x480 with 1 Axes>"
      ]
     },
     "metadata": {},
     "output_type": "display_data"
    }
   ],
   "source": [
    "sns.boxplot(data=df, x=\"Age\")"
   ]
  },
  {
   "cell_type": "code",
   "execution_count": 46,
   "id": "a0e3dfb8-f665-48e3-b7f8-e66139367533",
   "metadata": {},
   "outputs": [
    {
     "data": {
      "text/plain": [
       "<Axes: xlabel='Fare'>"
      ]
     },
     "execution_count": 46,
     "metadata": {},
     "output_type": "execute_result"
    },
    {
     "data": {
      "image/png": "[encoded data removed]",
      "text/plain": [
       "<Figure size 640x480 with 1 Axes>"
      ]
     },
     "metadata": {},
     "output_type": "display_data"
    }
   ],
   "source": [
    "sns.boxplot(data=df, x=\"Fare\")"
   ]
  },
  {
   "cell_type": "code",
   "execution_count": 47,
   "id": "6f2f151a-c109-418d-b2f9-5491e59136ff",
   "metadata": {},
   "outputs": [
    {
     "name": "stderr",
     "output_type": "stream",
     "text": [
      "C:\\Users\\aishp\\anaconda3\\Lib\\site-packages\\seaborn\\_oldcore.py:1119: FutureWarning: use_inf_as_na option is deprecated and will be removed in a future version. Convert inf values to NaN before operating instead.\n",
      "  with pd.option_context('mode.use_inf_as_na', True):\n"
     ]
    },
    {
     "data": {
      "text/plain": [
       "<Axes: xlabel='Age', ylabel='Count'>"
      ]
     },
     "execution_count": 47,
     "metadata": {},
     "output_type": "execute_result"
    },
    {
     "data": {
      "image/png": "[encoded data removed]",
      "text/plain": [
       "<Figure size 640x480 with 1 Axes>"
      ]
     },
     "metadata": {},
     "output_type": "display_data"
    }
   ],
   "source": [
    "sns.histplot(df[\"Age\"], kde=True, bins=50)"
   ]
  },
  {
   "cell_type": "code",
   "execution_count": 48,
   "id": "e1e4bf3e-0fbb-48d2-a698-6d8aeed9aab4",
   "metadata": {},
   "outputs": [
    {
     "name": "stderr",
     "output_type": "stream",
     "text": [
      "C:\\Users\\aishp\\anaconda3\\Lib\\site-packages\\seaborn\\_oldcore.py:1119: FutureWarning: use_inf_as_na option is deprecated and will be removed in a future version. Convert inf values to NaN before operating instead.\n",
      "  with pd.option_context('mode.use_inf_as_na', True):\n"
     ]
    },
    {
     "data": {
      "text/plain": [
       "<Axes: xlabel='Fare', ylabel='Count'>"
      ]
     },
     "execution_count": 48,
     "metadata": {},
     "output_type": "execute_result"
    },
    {
     "data": {
      "image/png": "[encoded data removed]",
      "text/plain": [
       "<Figure size 640x480 with 1 Axes>"
      ]
     },
     "metadata": {},
     "output_type": "display_data"
    }
   ],
   "source": [
    "sns.histplot(df[\"Fare\"], kde=True, bins=50)"
   ]
  },
  {
   "cell_type": "code",
   "execution_count": 56,
   "id": "18dc72c3-96eb-43f6-94c3-aade8d3b351c",
   "metadata": {},
   "outputs": [
    {
     "name": "stdout",
     "output_type": "stream",
     "text": [
      "Age     0\n",
      "Fare    0\n",
      "dtype: int64\n"
     ]
    },
    {
     "name": "stderr",
     "output_type": "stream",
     "text": [
      "C:\\Users\\aishp\\anaconda3\\Lib\\site-packages\\seaborn\\_oldcore.py:1119: FutureWarning: use_inf_as_na option is deprecated and will be removed in a future version. Convert inf values to NaN before operating instead.\n",
      "  with pd.option_context('mode.use_inf_as_na', True):\n"
     ]
    },
    {
     "data": {
      "text/html": [
       "<div>\n",
       "<style scoped>\n",
       "    .dataframe tbody tr th:only-of-type {\n",
       "        vertical-align: middle;\n",
       "    }\n",
       "\n",
       "    .dataframe tbody tr th {\n",
       "        vertical-align: top;\n",
       "    }\n",
       "\n",
       "    .dataframe thead th {\n",
       "        text-align: right;\n",
       "    }\n",
       "</style>\n",
       "<table border=\"1\" class=\"dataframe\">\n",
       "  <thead>\n",
       "    <tr style=\"text-align: right;\">\n",
       "      <th></th>\n",
       "      <th>Age</th>\n",
       "      <th>Fare</th>\n",
       "    </tr>\n",
       "  </thead>\n",
       "  <tbody>\n",
       "    <tr>\n",
       "      <th>832</th>\n",
       "      <td>0.0</td>\n",
       "      <td>7.2292</td>\n",
       "    </tr>\n",
       "    <tr>\n",
       "      <th>462</th>\n",
       "      <td>47.0</td>\n",
       "      <td>38.5000</td>\n",
       "    </tr>\n",
       "    <tr>\n",
       "      <th>871</th>\n",
       "      <td>47.0</td>\n",
       "      <td>52.5542</td>\n",
       "    </tr>\n",
       "    <tr>\n",
       "      <th>384</th>\n",
       "      <td>0.0</td>\n",
       "      <td>7.8958</td>\n",
       "    </tr>\n",
       "    <tr>\n",
       "      <th>97</th>\n",
       "      <td>23.0</td>\n",
       "      <td>63.3583</td>\n",
       "    </tr>\n",
       "    <tr>\n",
       "      <th>...</th>\n",
       "      <td>...</td>\n",
       "      <td>...</td>\n",
       "    </tr>\n",
       "    <tr>\n",
       "      <th>886</th>\n",
       "      <td>27.0</td>\n",
       "      <td>13.0000</td>\n",
       "    </tr>\n",
       "    <tr>\n",
       "      <th>527</th>\n",
       "      <td>0.0</td>\n",
       "      <td>100.0000</td>\n",
       "    </tr>\n",
       "    <tr>\n",
       "      <th>181</th>\n",
       "      <td>0.0</td>\n",
       "      <td>15.0500</td>\n",
       "    </tr>\n",
       "    <tr>\n",
       "      <th>572</th>\n",
       "      <td>36.0</td>\n",
       "      <td>26.3875</td>\n",
       "    </tr>\n",
       "    <tr>\n",
       "      <th>232</th>\n",
       "      <td>59.0</td>\n",
       "      <td>13.5000</td>\n",
       "    </tr>\n",
       "  </tbody>\n",
       "</table>\n",
       "<p>179 rows × 2 columns</p>\n",
       "</div>"
      ],
      "text/plain": [
       "      Age      Fare\n",
       "832   0.0    7.2292\n",
       "462  47.0   38.5000\n",
       "871  47.0   52.5542\n",
       "384   0.0    7.8958\n",
       "97   23.0   63.3583\n",
       "..    ...       ...\n",
       "886  27.0   13.0000\n",
       "527   0.0  100.0000\n",
       "181   0.0   15.0500\n",
       "572  36.0   26.3875\n",
       "232  59.0   13.5000\n",
       "\n",
       "[179 rows x 2 columns]"
      ]
     },
     "execution_count": 56,
     "metadata": {},
     "output_type": "execute_result"
    },
    {
     "data": {
      "image/png": "[encoded data removed]",
      "text/plain": [
       "<Figure size 640x480 with 1 Axes>"
      ]
     },
     "metadata": {},
     "output_type": "display_data"
    }
   ],
   "source": [
    "# lets try applying machine learning algorithms on the data once we have handled outliers.\n",
    "\n",
    "# Lets divide data into indpendent and dependent sections\n",
    "\n",
    "x = df[[\"Age\", \"Fare\"]].fillna(0)\n",
    "y = df[\"Survived\"]\n",
    "\n",
    "sns.histplot(data=df, x=\"Age\")\n",
    "\n",
    "print(x.isnull().sum())\n",
    "\n",
    "# Lets split data into train test set.\n",
    "\n",
    "from sklearn.model_selection import train_test_split\n",
    "\n",
    "x_train, x_test, y_train, y_test = train_test_split(x,y,test_size=0.2)\n",
    "\n",
    "x_test"
   ]
  },
  {
   "cell_type": "code",
   "execution_count": 50,
   "id": "5873f999-df9e-4c8a-b4cd-60d6014e4b7f",
   "metadata": {},
   "outputs": [],
   "source": [
    "# lets try applying machine learning algorithms on the data once we have handled outliers.\n",
    "\n",
    "# Lets try logistic regression\n",
    "\n",
    "from sklearn.linear_model import LogisticRegression\n",
    "logic_regression = LogisticRegression()\n",
    "logic_regression.fit(x_train, y_train)\n",
    "y_predict = logic_regression.predict(x_test)\n",
    "y_predict_1 = logic_regression.predict_proba(x_test)"
   ]
  },
  {
   "cell_type": "code",
   "execution_count": 51,
   "id": "b56b6843-18d5-411e-aa44-b03541128ece",
   "metadata": {},
   "outputs": [
    {
     "data": {
      "text/plain": [
       "0.6145251396648045"
      ]
     },
     "execution_count": 51,
     "metadata": {},
     "output_type": "execute_result"
    }
   ],
   "source": [
    "from sklearn.metrics import accuracy_score, roc_auc_score\n",
    "\n",
    "accuracy_score(y_test, y_predict)\n"
   ]
  },
  {
   "cell_type": "code",
   "execution_count": 52,
   "id": "044fc7a9-83db-4595-bbcf-a84c83a9d00b",
   "metadata": {},
   "outputs": [
    {
     "data": {
      "text/plain": [
       "0.6325277849573533"
      ]
     },
     "execution_count": 52,
     "metadata": {},
     "output_type": "execute_result"
    }
   ],
   "source": [
    "roc_auc_score(y_test, y_predict_1[:,1])"
   ]
  },
  {
   "cell_type": "code",
   "execution_count": 53,
   "id": "d1faf56e-c917-43e9-977c-93df23a820fb",
   "metadata": {},
   "outputs": [],
   "source": [
    "# Lets try RandomForestClassifier \n",
    "\n",
    "from sklearn.ensemble import RandomForestClassifier\n",
    "randomforest_classifier = RandomForestClassifier()\n",
    "randomforest_classifier.fit(x_train, y_train)\n",
    "y_predict = randomforest_classifier.predict(x_test)\n",
    "y_predict_1 = randomforest_classifier.predict_proba(x_test)"
   ]
  },
  {
   "cell_type": "code",
   "execution_count": 54,
   "id": "cabb6066-c3bc-4573-91f6-e0485db38b24",
   "metadata": {},
   "outputs": [
    {
     "data": {
      "text/plain": [
       "0.659217877094972"
      ]
     },
     "execution_count": 54,
     "metadata": {},
     "output_type": "execute_result"
    }
   ],
   "source": [
    "accuracy_score(y_test, y_predict)\n"
   ]
  },
  {
   "cell_type": "code",
   "execution_count": 55,
   "id": "ee934fb5-27e0-4341-9fd0-d9c62000071d",
   "metadata": {},
   "outputs": [
    {
     "data": {
      "text/plain": [
       "0.6950116309123805"
      ]
     },
     "execution_count": 55,
     "metadata": {},
     "output_type": "execute_result"
    }
   ],
   "source": [
    "roc_auc_score(y_test, y_predict_1[:,1])"
   ]
  },
  {
   "cell_type": "code",
   "execution_count": null,
   "id": "8ac665dc-ab31-467b-b428-3442f7b847fe",
   "metadata": {},
   "outputs": [],
   "source": []
  },
  {
   "cell_type": "code",
   "execution_count": null,
   "id": "c87f9e5b-262e-4ec1-9e5a-a87eba2dfe4a",
   "metadata": {},
   "outputs": [],
   "source": []
  },
  {
   "cell_type": "code",
   "execution_count": null,
   "id": "4d39e29b-e245-4c6c-a929-bf3e0af973a9",
   "metadata": {},
   "outputs": [],
   "source": []
  },
  {
   "cell_type": "code",
   "execution_count": null,
   "id": "4eaeaed0-81ef-4778-8850-8cb4ee1cdfc8",
   "metadata": {},
   "outputs": [],
   "source": []
  },
  {
   "cell_type": "code",
   "execution_count": null,
   "id": "83b2a0c4-bc81-4fa1-8047-5b11b90ea2dd",
   "metadata": {},
   "outputs": [],
   "source": []
  }
 ],
 "metadata": {
  "kernelspec": {
   "display_name": "Python 3 (ipykernel)",
   "language": "python",
   "name": "python3"
  },
  "language_info": {
   "codemirror_mode": {
    "name": "ipython",
    "version": 3
   },
   "file_extension": ".py",
   "mimetype": "text/x-python",
   "name": "python",
   "nbconvert_exporter": "python",
   "pygments_lexer": "ipython3",
   "version": "3.11.5"
  }
 },
 "nbformat": 4,
 "nbformat_minor": 5
}
